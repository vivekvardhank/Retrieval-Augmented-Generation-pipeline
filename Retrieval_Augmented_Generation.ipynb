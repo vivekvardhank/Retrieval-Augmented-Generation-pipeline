{
 "cells": [
  {
   "cell_type": "markdown",
   "id": "369975dd",
   "metadata": {},
   "source": [
    "BASIC GEN AI APP USING LANGCHAIN"
   ]
  },
  {
   "cell_type": "code",
   "execution_count": null,
   "id": "e4b67105",
   "metadata": {},
   "outputs": [],
   "source": [
    "import os\n",
    "from dotenv import load_dotenv\n",
    "load_dotenv()\n",
    "\n",
    "os.environ['OPENAI_API_KEY']=os.getenv(\"OPENAI_API_KEY\")\n",
    "os.environ[\"LANGCHAIN_API_KEY\"]=os.getenv(\"LANGCHAIN_API_KEY\")\n",
    "os.environ[\"LANGCHAIN_TRACING_V2\"]=\"true\"\n",
    "os.environ[\"LANGCHAIN_PROJECT\"]=os.getenv(\"LANGCHAIN_PROJECT\")"
   ]
  },
  {
   "cell_type": "code",
   "execution_count": null,
   "id": "6d46e15e",
   "metadata": {},
   "outputs": [],
   "source": [
    "#Data ingestion - scrapping web page\n",
    "from langchain_community.document_loaders import WebBaseLoader\n",
    "\n",
    "loader = WebBaseLoader(\"https://docs.langchain.com/langsmith/observability-quickstart\")"
   ]
  },
  {
   "cell_type": "code",
   "execution_count": null,
   "id": "9cdb41dd",
   "metadata": {},
   "outputs": [],
   "source": [
    "docs = loader.load()\n",
    "docs[0]"
   ]
  },
  {
   "cell_type": "code",
   "execution_count": null,
   "id": "e51aea5e",
   "metadata": {},
   "outputs": [],
   "source": [
    "#split the data into chunks using recursive character text splitter\n",
    "from langchain.text_splitter import RecursiveCharacterTextSplitter\n",
    "text_splitter = RecursiveCharacterTextSplitter(chunk_size=1000, chunk_overlap=200)\n",
    "texts = text_splitter.split_documents(docs)\n",
    "(texts)"
   ]
  },
  {
   "cell_type": "code",
   "execution_count": null,
   "id": "119e0660",
   "metadata": {},
   "outputs": [],
   "source": [
    "# embedding and vector store\n",
    "from langchain.embeddings import OpenAIEmbeddings\n",
    "embeddings = OpenAIEmbeddings()\n",
    "from langchain.vectorstores import FAISS\n",
    "db = FAISS.from_documents(texts, embeddings)\n",
    "db"
   ]
  },
  {
   "cell_type": "code",
   "execution_count": null,
   "id": "131b1860",
   "metadata": {},
   "outputs": [],
   "source": [
    "#similarity search\n",
    "query = \"how langchain provides end-to-end visibility \"\n",
    "result=db.similarity_search(query)\n",
    "result[0].page_content"
   ]
  },
  {
   "cell_type": "code",
   "execution_count": null,
   "id": "09f909a8",
   "metadata": {},
   "outputs": [],
   "source": [
    "#openai LLM\n",
    "from langchain.chat_models import ChatOpenAI\n",
    "llm = ChatOpenAI(model=\"gpt-4o\")\n"
   ]
  },
  {
   "cell_type": "code",
   "execution_count": null,
   "id": "f57e6cf3",
   "metadata": {},
   "outputs": [],
   "source": [
    "## Retrieval Chain, Document chain\n",
    "from langchain.chains.combine_documents import create_stuff_documents_chain\n",
    "from langchain_core.prompts import ChatPromptTemplate\n",
    "\n",
    "prompt = ChatPromptTemplate.from_template(\n",
    "    \"\"\"Answer the following question using only the provided context.\n",
    "If the context does not contain the answer, say \"I don’t know.\"\n",
    "\n",
    "<context>\n",
    "{context}\n",
    "</context>\n",
    "\n",
    "Question: {input}\"\"\"\n",
    ")\n",
    "doc_chain = create_stuff_documents_chain(llm=llm, prompt=prompt)\n",
    "doc_chain"
   ]
  },
  {
   "cell_type": "code",
   "execution_count": null,
   "id": "e59cfa32",
   "metadata": {},
   "outputs": [],
   "source": [
    "# Here we are manually passing both:\n",
    "# 1. The user question (\"input\")\n",
    "# 2. The supporting context (\"context\") as a list of Document objects\n",
    "# This simulates what a retriever would normally do automatically.\n",
    "# The doc_chain will stuff the docs into the prompt alongside the question\n",
    "# and then send everything to the LLM.\n",
    "from langchain_core.documents import Document\n",
    "doc_chain.invoke({\n",
    "    \"input\":query,\n",
    "    \"context\":[Document(page_content=\"LangSmith has two usage limits: total traces and extended traces. These correspond to the two metrics we've been tracking on our usage graph. \")]\n",
    "})"
   ]
  },
  {
   "cell_type": "code",
   "execution_count": null,
   "id": "e30a2df5",
   "metadata": {},
   "outputs": [],
   "source": [
    "#Retriever to get context from vector store and pass to llm\n",
    "retriever=db.as_retriever()\n",
    "from langchain.chains import create_retrieval_chain\n",
    "retrieval_chain=create_retrieval_chain(retriever,doc_chain)\n"
   ]
  },
  {
   "cell_type": "code",
   "execution_count": null,
   "id": "5bd8b88d",
   "metadata": {},
   "outputs": [],
   "source": [
    "retrieval_chain"
   ]
  },
  {
   "cell_type": "code",
   "execution_count": null,
   "id": "d1dc38ea",
   "metadata": {},
   "outputs": [],
   "source": [
    "#output from llm\n",
    "result=retrieval_chain.invoke({\"input\": \"are llms are non-deterministic\"})\n",
    "result['answer']"
   ]
  }
 ],
 "metadata": {
  "kernelspec": {
   "display_name": "Python 3",
   "language": "python",
   "name": "python3"
  },
  "language_info": {
   "codemirror_mode": {
    "name": "ipython",
    "version": 3
   },
   "file_extension": ".py",
   "mimetype": "text/x-python",
   "name": "python",
   "nbconvert_exporter": "python",
   "pygments_lexer": "ipython3",
   "version": "3.10.15"
  }
 },
 "nbformat": 4,
 "nbformat_minor": 5
}
